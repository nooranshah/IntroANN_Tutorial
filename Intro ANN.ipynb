{
 "cells": [
  {
   "cell_type": "markdown",
   "metadata": {},
   "source": [
    "![](kpk.jpg)"
   ]
  },
  {
   "cell_type": "markdown",
   "metadata": {},
   "source": [
    "## Derin Öğrenme Nedir?\n",
    "Derin Öğrenme, yapay sinir ağları adı verilen beynin yapısı ve işlevinden esinlenen algoritmalarla ilgili makine öğreniminin bir alt alanıdır.\n",
    "* Büyük verilerde, Makine Öğrenmesine kıyasla Derin Öğrenme ile daha yüksek doğruluk veren sonuçlara ulaşabiliyoruz. "
   ]
  },
  {
   "cell_type": "markdown",
   "metadata": {},
   "source": [
    "![](mldl.png)"
   ]
  },
  {
   "cell_type": "markdown",
   "metadata": {},
   "source": [
    "Makine Öğrenmesi ile Derin Öğrenme arasındaki fark: \n",
    "* Makine Öğrenmesinde featurelardan yararlanarak model oluşturulurken\n",
    "* Derin Öğrenmede featurelar datadan öğrenilmektedir. "
   ]
  },
  {
   "cell_type": "markdown",
   "metadata": {},
   "source": [
    "## Yapay Sinir Ağı Nedir?\n",
    "\n",
    "\n",
    "İnsan beyin sistemindeki nöronların biyolojik ağından esinlenerek geliştirilmiş matematiksel bir modeldir.\n",
    "* Yapay sinir ağları:\n",
    "    > * Eğitilebilen, adaptif, kendi kendine öğrenebilen ve değerlendirme yapabilen, \n",
    "    > * Eğitim verilerinden öğrenme süreci sonrası, yeni verileri tahmin edebilen,\n",
    "    > * Input ve output arasındaki karmaşık ilişkileri bulup temsil edebilen,\n",
    "    > * Sınıflandırma ve şekil tamamlama yapabilen bir modelleme aracıdır."
   ]
  },
  {
   "cell_type": "markdown",
   "metadata": {},
   "source": [
    "Yapay sinir ağları ile makinelerin eğitilmesi, öğrenmesi ve karar vermesi amaçlanmaktadır."
   ]
  },
  {
   "cell_type": "markdown",
   "metadata": {},
   "source": [
    "## Genel Kullanım Alanları\n",
    "* Örüntü Tanıma\n",
    "* Konuşma Tanıma\n",
    "* Hedef izleme\n",
    "* Arıza tespit ve analizi\n",
    "* Bilgisayarlı Görü\n",
    "* Makro ekonomik tahminler\n",
    "* Tıbbi Tanı\n",
    "alanlarda kullanılmaktadır\n",
    "\n",
    "Tahmin, Sınıflandırma, Veri İlişkilendirme, Veri Yorumlama ve Veri Filtreleme işlemlerinde kullanılır.\n",
    "* **Tahmin** --> Dövüz kuru tahmini\n",
    "* **Sınıflandırma** --> Makine üzerinde görülen hataların sınıflandırılması\n",
    "* **Veri ilişkilendirme** --> Eksik bir resmin tamamlanması\n",
    "* **Veri Yorumlama** --> Eğitim sonucu bilgiler ile yeni olayların yorumlanması\n",
    "* **Veri Filtreleme** --> Çoklu verilerde uygun verileri belirleme\n",
    "\n"
   ]
  },
  {
   "cell_type": "markdown",
   "metadata": {},
   "source": [
    "## Perceptron\n",
    "Tek katmanlı sinir ağı modelidir.\n",
    "> Input Layer ve Output Layeri vardır.\n",
    "\n",
    "* Sigmoid Perceptron : Tek katmanlı ve aktivasyon fonksiyonu olarak Sigmoid kullanan yapıdır. "
   ]
  },
  {
   "cell_type": "markdown",
   "metadata": {},
   "source": [
    "![](or_xorgate1.jpg)"
   ]
  },
  {
   "cell_type": "markdown",
   "metadata": {},
   "source": [
    "## Yapay Sinir Ağı"
   ]
  },
  {
   "cell_type": "markdown",
   "metadata": {},
   "source": [
    "Input, Output ve en az 1 tane **Hidden** Layerdan oluşur\n",
    "\n",
    "* Train setler hidden layer tarafından görülmediği için hidden adı verilmiştir.\n",
    "* Hidden Layer Node'lardan oluşur. \n",
    "> Aşağıdaki yapay sinir ağında ilk hidden layerda 3, ikinci hidden layerda da 3 tane node bulunmaktadır"
   ]
  },
  {
   "cell_type": "markdown",
   "metadata": {},
   "source": [
    "1. Input layerda her bir piksel kendi weighti ile çarpılır ve tüm çarpım sonuçları toplanır. Sonuç bias ile toplanılıp Z¹ değerine eşitlenir.\n",
    "> Z¹ = px1 * w1 + p2 * w2+ p3 * w3 + ....+ p4096 * w4096 + b¹\n",
    "\n",
    "2. Elde edilen Z¹ değeri aktivasyon fonksiyona sokulur ve elde edilen değer A¹'e eşitlenir.\n",
    "> A¹ = tanh(Z¹)\n",
    "\n",
    "3. A¹ değeri ile mevcut hidden layerdaki weightler çarpılır, bias ile toplanır ve Z² değerine eşitlenir.\n",
    "> Z² = W * A¹ + b²\n",
    "\n",
    "4. Elde edilen Z² değeri aktivasyon fonksiyona sokulur ve elde edilen değer A²'e eşitlenir.\n",
    "> A² = RELU(Z²)\n",
    "\n",
    "5. A² değeri ile mevcut hidden layerdaki weightler çarpılır, bias ile toplanır ve Z³ değerine eşitlenir.\n",
    "> Z³ = W * A² + b³\n",
    "\n",
    "6. Elde edilen Z³ değeri aktivasyon fonksiyona sokulur ve Output değeri elde edilir. \n",
    "> A³ = ϭ(Z³)\n"
   ]
  },
  {
   "cell_type": "markdown",
   "metadata": {},
   "source": [
    "![](ann.jpg)"
   ]
  },
  {
   "cell_type": "markdown",
   "metadata": {},
   "source": [
    "### Hyper parametreler : \n",
    "* Hidden Layer Sayısı\n",
    "* Node Sayısı \n",
    "* Learning Rate\n",
    "* Iterasyon Sayısı\n",
    "* Aktivasyon Fonksiyonu"
   ]
  },
  {
   "cell_type": "markdown",
   "metadata": {},
   "source": [
    "## Hidden Layer ne işe yarar? \n",
    "\n",
    "* Bir sinir ağı, bir görüntüyü sınıflandırmaya çalıştığında ilk hidden katmanlar kavramsal olarak basit desenleri keşfeder.\n",
    "\n",
    "* Simple interaction, yakındaki piksel gruplarına bakar ve patternslar bulur. \n",
    "\n",
    "* Hidden layer sayısı arttıkça keşfedilen karmaşıklık artar, daha karmaşık desenler öğrenilir. Böylece görüntüyü tanımlayabilecek kareler oluşturulmuş olur."
   ]
  },
  {
   "cell_type": "markdown",
   "metadata": {},
   "source": [
    "![](hl.png)"
   ]
  },
  {
   "cell_type": "markdown",
   "metadata": {},
   "source": [
    "> Ancak layer sayısı arttıkça öğrenme performansı artar demek pek doğru değildir.\n",
    "> Model performansını tüm hyperparametreler etkilemektedir."
   ]
  },
  {
   "cell_type": "markdown",
   "metadata": {},
   "source": [
    "![](hidd.png)"
   ]
  },
  {
   "cell_type": "markdown",
   "metadata": {},
   "source": [
    "*Sequential Experiments*\n",
    "\n",
    "Amacımız daha az hata alabilmek.\n",
    "\n",
    "* 1 tane Hidden Layer ve o Hidden Layerin 100 tane Node'u oldugunda çıkan hata oranını düşerebilmek *(5.4)* için hyperparametrelermizi değiştiriyoruz ve node sayısını arttırıyoruz.\n",
    "\n",
    "* 1 Hidden Layer 250 node olduğunda ilkine göre hata oranı düştü *(4.8)* \n",
    "\n",
    "* Hidden Layer sayısını 2'ye çıkartıyoruz, hata oranı düştü *(4.4)*\n",
    "\n",
    "* Hidden Layer sayısını 3'e çıkartıyoruz ve hata oranının artığını görüyoruz *(4.5)*\n",
    "\n",
    "* Hidden Layer sayısı 3 iken node sayısını arttırıyoruz ve hata oranının düştüğünü *(4.3)* görüyoruz ve bitiriyoruz. "
   ]
  },
  {
   "cell_type": "markdown",
   "metadata": {},
   "source": [
    "## Aktivasyon Fonksiyonları\n",
    " * Sinir ağlarında kilit bir rol oynar.\n",
    " * Sinir ağında aktivasyon fonksiyon kullanılmazsa model, sınırlı öğrenme gücüne sahip olan linear regression gibi davranır.  \n",
    " * Nonlinear durumlarda da sinir ağını kullanmak için aktivasyon fonksiyonları gereklidir. \n",
    " * Aktivasyon fonksiyonları sayesinde ağların daha güçlü öğrenmesi sağlanabilir."
   ]
  },
  {
   "cell_type": "markdown",
   "metadata": {},
   "source": [
    "![](activationfunc.jpg)"
   ]
  },
  {
   "cell_type": "markdown",
   "metadata": {},
   "source": [
    "* RELU'nun türevinin alınması kolay olduğundan, diğerlerine göre hızlıdır.\n",
    "\n",
    "* RELU da 0' dan küçük değerlerin eğimi 0 olduğu için o node'lara gelen weightlerin eğimide 0'dır. Bu durumda weightler güncelenmemekte ve modele hiçbir etkisi olmamaktadır. Bu tarz durumlara **dead node** denilmektedir.\n",
    "\n",
    "* **Dead node** gibi durumları önleyebilmek için Leaky RELU gibi farklı bir aktivasyon fonksiyonu kullanmak daha etkili olabilir.\n"
   ]
  },
  {
   "cell_type": "markdown",
   "metadata": {},
   "source": [
    "Aktivasyon fonksiyonu input return ediyorsa *identify function* olarak adlandırılır "
   ]
  },
  {
   "cell_type": "markdown",
   "metadata": {},
   "source": [
    "## Sign Language Digits\n",
    "\n",
    "Data seti, işaret dilinde 0-9 arası rakamların fotoğraflarını içermektedir.\n",
    "\n",
    "> Veri Seti için : https://www.kaggle.com/ardamavi/sign-language-digits-dataset"
   ]
  },
  {
   "cell_type": "markdown",
   "metadata": {},
   "source": [
    "![](datapreview.png)"
   ]
  },
  {
   "cell_type": "code",
   "execution_count": 89,
   "metadata": {},
   "outputs": [],
   "source": [
    "# import libraries\n",
    "\n",
    "import numpy as np\n",
    "import pandas as pd \n",
    "import matplotlib.pyplot as plt\n",
    "\n",
    "from sklearn.model_selection import train_test_split"
   ]
  },
  {
   "cell_type": "code",
   "execution_count": 90,
   "metadata": {
    "scrolled": true
   },
   "outputs": [
    {
     "data": {
      "text/plain": [
       "(-0.5, 63.5, 63.5, -0.5)"
      ]
     },
     "execution_count": 90,
     "metadata": {},
     "output_type": "execute_result"
    },
    {
     "data": {
      "image/png": "[encoded data removed]",
      "text/plain": [
       "<Figure size 432x288 with 5 Axes>"
      ]
     },
     "metadata": {
      "needs_background": "light"
     },
     "output_type": "display_data"
    }
   ],
   "source": [
    "# import and show data\n",
    "\n",
    "x_l = np.load('signlanguage/X.npy') #resimler\n",
    "y_l = np.load('signlanguage/Y.npy') #labellar\n",
    "img_size = 64\n",
    "\n",
    "\n",
    "plt.subplot(1,5,1) # 0\n",
    "plt.imshow(x_l[262].reshape(img_size, img_size))\n",
    "plt.axis('off') # x ve y kısımlarını kapatma \n",
    "\n",
    "plt.subplot(1,5,2) # 1 \n",
    "plt.imshow(x_l[920].reshape(img_size, img_size))\n",
    "plt.axis('off') \n",
    "\n",
    "plt.subplot(1,5,3) # 2\n",
    "plt.imshow(x_l[1854].reshape(img_size, img_size))\n",
    "plt.axis('off') \n",
    "\n",
    "plt.subplot(1,5,4) # 7\n",
    "plt.imshow(x_l[455].reshape(img_size, img_size))\n",
    "plt.axis('off') \n",
    "\n",
    "plt.subplot(1,5,5) # 5\n",
    "plt.imshow(x_l[2000].reshape(img_size, img_size))\n",
    "plt.axis('off') "
   ]
  },
  {
   "cell_type": "code",
   "execution_count": 91,
   "metadata": {},
   "outputs": [
    {
     "data": {
      "text/plain": [
       "(410, 64, 64)"
      ]
     },
     "execution_count": 91,
     "metadata": {},
     "output_type": "execute_result"
    }
   ],
   "source": [
    "# datasetinden 0 ve 1'leri alma\n",
    "X = np.concatenate(( x_l[204:409], x_l[822:1027]), axis=0)\n",
    "X.shape"
   ]
  },
  {
   "cell_type": "code",
   "execution_count": 92,
   "metadata": {
    "scrolled": true
   },
   "outputs": [
    {
     "name": "stdout",
     "output_type": "stream",
     "text": [
      "X shape:  (410, 64, 64)\n",
      "Y shape:  (410, 1)\n"
     ]
    }
   ],
   "source": [
    "X = np.concatenate(( x_l[204:409], x_l[822:1027] ), axis=0)\n",
    "#from 0 to 244 is 0 sign and from 205 to 410 is one sign\n",
    "\n",
    "z = np.zeros(205) #label\n",
    "o = np.ones(205) #label\n",
    "Y = np.concatenate( (z,o),axis=0).reshape(X.shape[0],1) #yukarıdan asagıya concataneta etme\n",
    "print(\"X shape: \" , X.shape)\n",
    "print(\"Y shape: \" , Y.shape)"
   ]
  },
  {
   "cell_type": "markdown",
   "metadata": {},
   "source": [
    "### Train Test Split"
   ]
  },
  {
   "cell_type": "code",
   "execution_count": 93,
   "metadata": {},
   "outputs": [],
   "source": [
    "X_train, X_test, Y_train, Y_test = train_test_split(X, Y, test_size=0.15, random_state=42)\n",
    "number_of_train = X_train.shape[0]\n",
    "number_of_test = X_test.shape[0]\n",
    "number_of_Ytrain = Y_train\n",
    "number_of_Ytest = Y_test.size"
   ]
  },
  {
   "cell_type": "code",
   "execution_count": 94,
   "metadata": {},
   "outputs": [
    {
     "name": "stdout",
     "output_type": "stream",
     "text": [
      "number_of_Xtrain:  348\n",
      "number_of_Xtest:  62\n",
      "number_of_Ytrain:  348\n",
      "number_of_Ytest:  62\n"
     ]
    }
   ],
   "source": [
    "print(\"number_of_Xtrain: \",number_of_train)\n",
    "print(\"number_of_Xtest: \",number_of_test)\n",
    "print(\"number_of_Ytrain: \",number_of_train)\n",
    "print(\"number_of_Ytest: \",number_of_Ytest)"
   ]
  },
  {
   "cell_type": "code",
   "execution_count": 95,
   "metadata": {},
   "outputs": [
    {
     "name": "stdout",
     "output_type": "stream",
     "text": [
      "X train flatten (348, 4096)\n",
      "X test flatten (62, 4096)\n"
     ]
    }
   ],
   "source": [
    "# X = 410, 64, 64 (3 boyutlu matris)\n",
    "# Y = 410,1 ( 2boyutlu matris)\n",
    "#flatten : 2 boyutlu hale getirme\n",
    "\n",
    "X_train_flatten = X_train.reshape(number_of_train,X_train.shape[1]*X_train.shape[2])\n",
    "X_test_flatten = X_test .reshape(number_of_test,X_test.shape[1]*X_test.shape[2])\n",
    "\n",
    "print(\"X train flatten\",X_train_flatten.shape)\n",
    "print(\"X test flatten\",X_test_flatten.shape)"
   ]
  },
  {
   "cell_type": "code",
   "execution_count": 96,
   "metadata": {},
   "outputs": [
    {
     "name": "stdout",
     "output_type": "stream",
     "text": [
      "x train:  (348, 4096)\n",
      "x test:  (62, 4096)\n",
      "y train:  (348, 1)\n",
      "y test:  (62, 1)\n"
     ]
    }
   ],
   "source": [
    "x_train = X_train_flatten\n",
    "x_test = X_test_flatten\n",
    "y_train = Y_train\n",
    "y_test = Y_test\n",
    "\n",
    "print(\"x train: \",x_train.shape)\n",
    "print(\"x test: \",x_test.shape)\n",
    "print(\"y train: \",y_train.shape)\n",
    "print(\"y test: \",y_test.shape)"
   ]
  },
  {
   "cell_type": "code",
   "execution_count": 97,
   "metadata": {},
   "outputs": [],
   "source": [
    "# reshaping\n",
    "# x_train, x_test, y_train, y_test = x_train.T, x_test.T, y_train.T, y_test.T"
   ]
  },
  {
   "cell_type": "markdown",
   "metadata": {},
   "source": [
    "### Implementing with Keras Library"
   ]
  },
  {
   "cell_type": "code",
   "execution_count": 98,
   "metadata": {},
   "outputs": [],
   "source": [
    "# Import Keras \n",
    "# Evaluating the ANN\n",
    "from keras.wrappers.scikit_learn import KerasClassifier #Datasetini sınıflandırma için\n",
    "\n",
    "from sklearn.model_selection import cross_val_score # Datayı test ve train olarak bölme oranı \n",
    "\n",
    "from keras.models import Sequential # Sinir ağını import etme\n",
    "\n",
    "from keras.layers import Dense # Layerları build etme"
   ]
  },
  {
   "cell_type": "code",
   "execution_count": 126,
   "metadata": {},
   "outputs": [],
   "source": [
    "# Sinir Ağını oluşturma\n",
    "def build_classifier():\n",
    "    model = Sequential() # initialize neural network\n",
    "    \n",
    "    model.add(Dense(units = 8, kernel_initializer = 'uniform', activation = 'relu', input_dim = x_train.shape[1]))\n",
    "    model.add(Dense(units = 3, kernel_initializer = 'uniform', activation = 'tanh'))\n",
    "    model.add(Dense(units = 1, kernel_initializer = 'uniform', activation = 'sigmoid'))\n",
    "    \n",
    "    model.compile(optimizer = 'adam', loss = 'binary_crossentropy', metrics = ['accuracy'])\n",
    "    \n",
    "    # model fitting \n",
    "    model.fit(x_train, y_train)\n",
    "    \n",
    "    return model\n",
    "\n",
    "model = KerasClassifier(build_fn = build_classifier, epochs = 100)\n",
    "\n",
    "# birden fazla accurarci elde etme,\n",
    "# bu accurarcilerin ortalamasını alarak daha efektik bir sonuc elde edebiliriz"
   ]
  },
  {
   "cell_type": "code",
   "execution_count": 127,
   "metadata": {},
   "outputs": [
    {
     "name": "stdout",
     "output_type": "stream",
     "text": [
      "Epoch 1/1\n",
      "348/348 [==============================] - 0s 994us/step - loss: 0.6932 - accuracy: 0.5948\n",
      "Epoch 1/100\n",
      "232/232 [==============================] - 0s 90us/step - loss: 0.6928 - accuracy: 0.5431\n",
      "Epoch 2/100\n",
      "232/232 [==============================] - 0s 95us/step - loss: 0.6915 - accuracy: 0.5431\n",
      "Epoch 3/100\n",
      "232/232 [==============================] - 0s 90us/step - loss: 0.6909 - accuracy: 0.5431\n",
      "Epoch 4/100\n",
      "232/232 [==============================] - 0s 95us/step - loss: 0.6896 - accuracy: 0.5431\n",
      "Epoch 5/100\n",
      "232/232 [==============================] - 0s 95us/step - loss: 0.6880 - accuracy: 0.5431\n",
      "Epoch 6/100\n",
      "232/232 [==============================] - 0s 95us/step - loss: 0.6845 - accuracy: 0.5431\n",
      "Epoch 7/100\n",
      "232/232 [==============================] - 0s 90us/step - loss: 0.6784 - accuracy: 0.5431\n",
      "Epoch 8/100\n",
      "232/232 [==============================] - 0s 103us/step - loss: 0.6726 - accuracy: 0.5431\n",
      "Epoch 9/100\n",
      "232/232 [==============================] - 0s 95us/step - loss: 0.6645 - accuracy: 0.5431\n",
      "Epoch 10/100\n",
      "232/232 [==============================] - 0s 99us/step - loss: 0.6558 - accuracy: 0.5431\n",
      "Epoch 11/100\n",
      "232/232 [==============================] - 0s 86us/step - loss: 0.6463 - accuracy: 0.5431\n",
      "Epoch 12/100\n",
      "232/232 [==============================] - 0s 99us/step - loss: 0.6407 - accuracy: 0.6034\n",
      "Epoch 13/100\n",
      "232/232 [==============================] - 0s 95us/step - loss: 0.6284 - accuracy: 0.7888\n",
      "Epoch 14/100\n",
      "232/232 [==============================] - 0s 99us/step - loss: 0.6221 - accuracy: 0.8362\n",
      "Epoch 15/100\n",
      "232/232 [==============================] - 0s 95us/step - loss: 0.6142 - accuracy: 0.8233\n",
      "Epoch 16/100\n",
      "232/232 [==============================] - 0s 99us/step - loss: 0.6022 - accuracy: 0.8405\n",
      "Epoch 17/100\n",
      "232/232 [==============================] - 0s 99us/step - loss: 0.5933 - accuracy: 0.9095\n",
      "Epoch 18/100\n",
      "232/232 [==============================] - 0s 99us/step - loss: 0.5833 - accuracy: 0.8836\n",
      "Epoch 19/100\n",
      "232/232 [==============================] - 0s 90us/step - loss: 0.5725 - accuracy: 0.9181\n",
      "Epoch 20/100\n",
      "232/232 [==============================] - 0s 99us/step - loss: 0.5639 - accuracy: 0.9181\n",
      "Epoch 21/100\n",
      "232/232 [==============================] - 0s 86us/step - loss: 0.5566 - accuracy: 0.9267\n",
      "Epoch 22/100\n",
      "232/232 [==============================] - 0s 90us/step - loss: 0.5593 - accuracy: 0.8922\n",
      "Epoch 23/100\n",
      "232/232 [==============================] - 0s 103us/step - loss: 0.5396 - accuracy: 0.9181\n",
      "Epoch 24/100\n",
      "232/232 [==============================] - 0s 99us/step - loss: 0.5384 - accuracy: 0.9397\n",
      "Epoch 25/100\n",
      "232/232 [==============================] - 0s 90us/step - loss: 0.5301 - accuracy: 0.9181\n",
      "Epoch 26/100\n",
      "232/232 [==============================] - 0s 90us/step - loss: 0.5147 - accuracy: 0.9224\n",
      "Epoch 27/100\n",
      "232/232 [==============================] - 0s 90us/step - loss: 0.5068 - accuracy: 0.9440\n",
      "Epoch 28/100\n",
      "232/232 [==============================] - 0s 99us/step - loss: 0.5019 - accuracy: 0.9353\n",
      "Epoch 29/100\n",
      "232/232 [==============================] - 0s 95us/step - loss: 0.4972 - accuracy: 0.9397\n",
      "Epoch 30/100\n",
      "232/232 [==============================] - 0s 95us/step - loss: 0.4824 - accuracy: 0.9353\n",
      "Epoch 31/100\n",
      "232/232 [==============================] - 0s 99us/step - loss: 0.4772 - accuracy: 0.9440\n",
      "Epoch 32/100\n",
      "232/232 [==============================] - 0s 95us/step - loss: 0.4675 - accuracy: 0.9483\n",
      "Epoch 33/100\n",
      "232/232 [==============================] - 0s 90us/step - loss: 0.4691 - accuracy: 0.9224\n",
      "Epoch 34/100\n",
      "232/232 [==============================] - 0s 95us/step - loss: 0.4725 - accuracy: 0.9310\n",
      "Epoch 35/100\n",
      "232/232 [==============================] - 0s 99us/step - loss: 0.4615 - accuracy: 0.9397\n",
      "Epoch 36/100\n",
      "232/232 [==============================] - 0s 95us/step - loss: 0.4484 - accuracy: 0.9483\n",
      "Epoch 37/100\n",
      "232/232 [==============================] - 0s 95us/step - loss: 0.4417 - accuracy: 0.9569\n",
      "Epoch 38/100\n",
      "232/232 [==============================] - 0s 90us/step - loss: 0.4372 - accuracy: 0.9569\n",
      "Epoch 39/100\n",
      "232/232 [==============================] - 0s 95us/step - loss: 0.4204 - accuracy: 0.9569\n",
      "Epoch 40/100\n",
      "232/232 [==============================] - 0s 90us/step - loss: 0.4108 - accuracy: 0.9612\n",
      "Epoch 41/100\n",
      "232/232 [==============================] - 0s 99us/step - loss: 0.4101 - accuracy: 0.9655\n",
      "Epoch 42/100\n",
      "232/232 [==============================] - 0s 95us/step - loss: 0.4080 - accuracy: 0.9397\n",
      "Epoch 43/100\n",
      "232/232 [==============================] - 0s 99us/step - loss: 0.3956 - accuracy: 0.9483\n",
      "Epoch 44/100\n",
      "232/232 [==============================] - 0s 99us/step - loss: 0.3834 - accuracy: 0.9655\n",
      "Epoch 45/100\n",
      "232/232 [==============================] - 0s 95us/step - loss: 0.3746 - accuracy: 0.9828\n",
      "Epoch 46/100\n",
      "232/232 [==============================] - 0s 99us/step - loss: 0.3959 - accuracy: 0.9353\n",
      "Epoch 47/100\n",
      "232/232 [==============================] - 0s 99us/step - loss: 0.3688 - accuracy: 0.9397\n",
      "Epoch 48/100\n",
      "232/232 [==============================] - 0s 90us/step - loss: 0.3633 - accuracy: 0.9655\n",
      "Epoch 49/100\n",
      "232/232 [==============================] - 0s 99us/step - loss: 0.3738 - accuracy: 0.9483\n",
      "Epoch 50/100\n",
      "232/232 [==============================] - 0s 95us/step - loss: 0.3448 - accuracy: 0.9612\n",
      "Epoch 51/100\n",
      "232/232 [==============================] - 0s 99us/step - loss: 0.3435 - accuracy: 0.9698\n",
      "Epoch 52/100\n",
      "232/232 [==============================] - 0s 95us/step - loss: 0.3388 - accuracy: 0.9612\n",
      "Epoch 53/100\n",
      "232/232 [==============================] - 0s 90us/step - loss: 0.3358 - accuracy: 0.9440\n",
      "Epoch 54/100\n",
      "232/232 [==============================] - 0s 95us/step - loss: 0.3453 - accuracy: 0.9483\n",
      "Epoch 55/100\n",
      "232/232 [==============================] - 0s 95us/step - loss: 0.3132 - accuracy: 0.9784\n",
      "Epoch 56/100\n",
      "232/232 [==============================] - 0s 95us/step - loss: 0.3011 - accuracy: 0.9741\n",
      "Epoch 57/100\n",
      "232/232 [==============================] - 0s 95us/step - loss: 0.3114 - accuracy: 0.9526\n",
      "Epoch 58/100\n",
      "232/232 [==============================] - 0s 95us/step - loss: 0.3027 - accuracy: 0.9698\n",
      "Epoch 59/100\n",
      "232/232 [==============================] - 0s 99us/step - loss: 0.2914 - accuracy: 0.9784\n",
      "Epoch 60/100\n",
      "232/232 [==============================] - 0s 99us/step - loss: 0.3109 - accuracy: 0.9483\n",
      "Epoch 61/100\n",
      "232/232 [==============================] - 0s 99us/step - loss: 0.2862 - accuracy: 0.9741\n",
      "Epoch 62/100\n",
      "232/232 [==============================] - 0s 95us/step - loss: 0.2832 - accuracy: 0.9741\n",
      "Epoch 63/100\n",
      "232/232 [==============================] - 0s 95us/step - loss: 0.2744 - accuracy: 0.9698\n",
      "Epoch 64/100\n",
      "232/232 [==============================] - 0s 95us/step - loss: 0.2677 - accuracy: 0.9784\n",
      "Epoch 65/100\n",
      "232/232 [==============================] - 0s 95us/step - loss: 0.2653 - accuracy: 0.9741\n",
      "Epoch 66/100\n",
      "232/232 [==============================] - 0s 95us/step - loss: 0.2603 - accuracy: 0.9784\n",
      "Epoch 67/100\n",
      "232/232 [==============================] - 0s 90us/step - loss: 0.2596 - accuracy: 0.9784\n",
      "Epoch 68/100\n",
      "232/232 [==============================] - 0s 95us/step - loss: 0.2747 - accuracy: 0.9569\n",
      "Epoch 69/100\n",
      "232/232 [==============================] - 0s 99us/step - loss: 0.2473 - accuracy: 0.9784\n",
      "Epoch 70/100\n",
      "232/232 [==============================] - 0s 95us/step - loss: 0.2434 - accuracy: 0.9741\n",
      "Epoch 71/100\n",
      "232/232 [==============================] - 0s 95us/step - loss: 0.2388 - accuracy: 0.9828\n",
      "Epoch 72/100\n",
      "232/232 [==============================] - 0s 95us/step - loss: 0.2514 - accuracy: 0.9612\n",
      "Epoch 73/100\n",
      "232/232 [==============================] - 0s 95us/step - loss: 0.2273 - accuracy: 0.9828\n",
      "Epoch 74/100\n",
      "232/232 [==============================] - 0s 95us/step - loss: 0.2325 - accuracy: 0.9741\n",
      "Epoch 75/100\n",
      "232/232 [==============================] - 0s 90us/step - loss: 0.2249 - accuracy: 0.9828\n",
      "Epoch 76/100\n",
      "232/232 [==============================] - 0s 90us/step - loss: 0.2439 - accuracy: 0.9655\n",
      "Epoch 77/100\n",
      "232/232 [==============================] - 0s 95us/step - loss: 0.2144 - accuracy: 0.9828\n",
      "Epoch 78/100\n",
      "232/232 [==============================] - 0s 95us/step - loss: 0.2065 - accuracy: 0.9784\n",
      "Epoch 79/100\n"
     ]
    },
    {
     "name": "stdout",
     "output_type": "stream",
     "text": [
      "232/232 [==============================] - 0s 86us/step - loss: 0.2063 - accuracy: 0.9784\n",
      "Epoch 80/100\n",
      "232/232 [==============================] - 0s 95us/step - loss: 0.2112 - accuracy: 0.9828\n",
      "Epoch 81/100\n",
      "232/232 [==============================] - 0s 90us/step - loss: 0.1984 - accuracy: 0.9828\n",
      "Epoch 82/100\n",
      "232/232 [==============================] - 0s 99us/step - loss: 0.2018 - accuracy: 0.9828\n",
      "Epoch 83/100\n",
      "232/232 [==============================] - 0s 90us/step - loss: 0.1996 - accuracy: 0.9741\n",
      "Epoch 84/100\n",
      "232/232 [==============================] - 0s 95us/step - loss: 0.1975 - accuracy: 0.9741\n",
      "Epoch 85/100\n",
      "232/232 [==============================] - 0s 90us/step - loss: 0.1887 - accuracy: 0.9871\n",
      "Epoch 86/100\n",
      "232/232 [==============================] - 0s 95us/step - loss: 0.1903 - accuracy: 0.9828\n",
      "Epoch 87/100\n",
      "232/232 [==============================] - 0s 95us/step - loss: 0.1805 - accuracy: 0.9871\n",
      "Epoch 88/100\n",
      "232/232 [==============================] - 0s 95us/step - loss: 0.1805 - accuracy: 0.9871\n",
      "Epoch 89/100\n",
      "232/232 [==============================] - 0s 95us/step - loss: 0.1793 - accuracy: 0.9871\n",
      "Epoch 90/100\n",
      "232/232 [==============================] - 0s 86us/step - loss: 0.1898 - accuracy: 0.9741\n",
      "Epoch 91/100\n",
      "232/232 [==============================] - 0s 90us/step - loss: 0.1746 - accuracy: 0.9914\n",
      "Epoch 92/100\n",
      "232/232 [==============================] - 0s 95us/step - loss: 0.1689 - accuracy: 0.9828\n",
      "Epoch 93/100\n",
      "232/232 [==============================] - 0s 95us/step - loss: 0.1634 - accuracy: 0.9871\n",
      "Epoch 94/100\n",
      "232/232 [==============================] - 0s 86us/step - loss: 0.1707 - accuracy: 0.9784\n",
      "Epoch 95/100\n",
      "232/232 [==============================] - 0s 86us/step - loss: 0.1904 - accuracy: 0.9698\n",
      "Epoch 96/100\n",
      "232/232 [==============================] - 0s 95us/step - loss: 0.1631 - accuracy: 0.9871\n",
      "Epoch 97/100\n",
      "232/232 [==============================] - 0s 90us/step - loss: 0.1559 - accuracy: 0.9871\n",
      "Epoch 98/100\n",
      "232/232 [==============================] - 0s 90us/step - loss: 0.1719 - accuracy: 0.9741\n",
      "Epoch 99/100\n",
      "232/232 [==============================] - 0s 90us/step - loss: 0.1805 - accuracy: 0.9655\n",
      "Epoch 100/100\n",
      "232/232 [==============================] - 0s 86us/step - loss: 0.1645 - accuracy: 0.9828\n",
      "116/116 [==============================] - 0s 817us/step\n",
      "Epoch 1/1\n",
      "348/348 [==============================] - 0s 1ms/step - loss: 0.6931 - accuracy: 0.5575\n",
      "Epoch 1/100\n",
      "232/232 [==============================] - 0s 120us/step - loss: 0.6926 - accuracy: 0.5216\n",
      "Epoch 2/100\n",
      "232/232 [==============================] - 0s 95us/step - loss: 0.6920 - accuracy: 0.5216\n",
      "Epoch 3/100\n",
      "232/232 [==============================] - 0s 90us/step - loss: 0.6910 - accuracy: 0.5216\n",
      "Epoch 4/100\n",
      "232/232 [==============================] - 0s 99us/step - loss: 0.6893 - accuracy: 0.5216\n",
      "Epoch 5/100\n",
      "232/232 [==============================] - 0s 90us/step - loss: 0.6874 - accuracy: 0.5216\n",
      "Epoch 6/100\n",
      "232/232 [==============================] - 0s 99us/step - loss: 0.6842 - accuracy: 0.5216\n",
      "Epoch 7/100\n",
      "232/232 [==============================] - 0s 90us/step - loss: 0.6803 - accuracy: 0.5216\n",
      "Epoch 8/100\n",
      "232/232 [==============================] - 0s 95us/step - loss: 0.6752 - accuracy: 0.5216\n",
      "Epoch 9/100\n",
      "232/232 [==============================] - 0s 90us/step - loss: 0.6695 - accuracy: 0.5647\n",
      "Epoch 10/100\n",
      "232/232 [==============================] - 0s 90us/step - loss: 0.6611 - accuracy: 0.6638\n",
      "Epoch 11/100\n",
      "232/232 [==============================] - 0s 95us/step - loss: 0.6529 - accuracy: 0.7716\n",
      "Epoch 12/100\n",
      "232/232 [==============================] - 0s 90us/step - loss: 0.6437 - accuracy: 0.7931\n",
      "Epoch 13/100\n",
      "232/232 [==============================] - 0s 99us/step - loss: 0.6374 - accuracy: 0.7759\n",
      "Epoch 14/100\n",
      "232/232 [==============================] - 0s 90us/step - loss: 0.6298 - accuracy: 0.7457\n",
      "Epoch 15/100\n",
      "232/232 [==============================] - 0s 95us/step - loss: 0.6218 - accuracy: 0.8276\n",
      "Epoch 16/100\n",
      "232/232 [==============================] - 0s 95us/step - loss: 0.6078 - accuracy: 0.8578\n",
      "Epoch 17/100\n",
      "232/232 [==============================] - 0s 103us/step - loss: 0.5986 - accuracy: 0.8922\n",
      "Epoch 18/100\n",
      "232/232 [==============================] - 0s 95us/step - loss: 0.5872 - accuracy: 0.8922\n",
      "Epoch 19/100\n",
      "232/232 [==============================] - 0s 95us/step - loss: 0.5871 - accuracy: 0.8578\n",
      "Epoch 20/100\n",
      "232/232 [==============================] - 0s 95us/step - loss: 0.5698 - accuracy: 0.8750\n",
      "Epoch 21/100\n",
      "232/232 [==============================] - 0s 90us/step - loss: 0.5654 - accuracy: 0.9224\n",
      "Epoch 22/100\n",
      "232/232 [==============================] - 0s 99us/step - loss: 0.5502 - accuracy: 0.9353\n",
      "Epoch 23/100\n",
      "232/232 [==============================] - 0s 99us/step - loss: 0.5408 - accuracy: 0.9353\n",
      "Epoch 24/100\n",
      "232/232 [==============================] - 0s 112us/step - loss: 0.5361 - accuracy: 0.9095\n",
      "Epoch 25/100\n",
      "232/232 [==============================] - 0s 125us/step - loss: 0.5246 - accuracy: 0.9483\n",
      "Epoch 26/100\n",
      "232/232 [==============================] - 0s 95us/step - loss: 0.5124 - accuracy: 0.9440\n",
      "Epoch 27/100\n",
      "232/232 [==============================] - 0s 95us/step - loss: 0.5022 - accuracy: 0.9569\n",
      "Epoch 28/100\n",
      "232/232 [==============================] - 0s 103us/step - loss: 0.5010 - accuracy: 0.9267\n",
      "Epoch 29/100\n",
      "232/232 [==============================] - 0s 107us/step - loss: 0.4869 - accuracy: 0.9741\n",
      "Epoch 30/100\n",
      "232/232 [==============================] - 0s 99us/step - loss: 0.4767 - accuracy: 0.9612\n",
      "Epoch 31/100\n",
      "232/232 [==============================] - 0s 107us/step - loss: 0.4669 - accuracy: 0.9569\n",
      "Epoch 32/100\n",
      "232/232 [==============================] - 0s 103us/step - loss: 0.4562 - accuracy: 0.9612\n",
      "Epoch 33/100\n",
      "232/232 [==============================] - 0s 95us/step - loss: 0.4527 - accuracy: 0.9569\n",
      "Epoch 34/100\n",
      "232/232 [==============================] - 0s 95us/step - loss: 0.4393 - accuracy: 0.9698\n",
      "Epoch 35/100\n",
      "232/232 [==============================] - 0s 86us/step - loss: 0.4347 - accuracy: 0.9526\n",
      "Epoch 36/100\n",
      "232/232 [==============================] - 0s 90us/step - loss: 0.4330 - accuracy: 0.9655\n",
      "Epoch 37/100\n",
      "232/232 [==============================] - 0s 95us/step - loss: 0.4255 - accuracy: 0.9698\n",
      "Epoch 38/100\n",
      "232/232 [==============================] - 0s 90us/step - loss: 0.4260 - accuracy: 0.9267\n",
      "Epoch 39/100\n",
      "232/232 [==============================] - 0s 99us/step - loss: 0.4028 - accuracy: 0.9655\n",
      "Epoch 40/100\n",
      "232/232 [==============================] - 0s 95us/step - loss: 0.4031 - accuracy: 0.9698\n",
      "Epoch 41/100\n",
      "232/232 [==============================] - 0s 90us/step - loss: 0.3870 - accuracy: 0.9698\n",
      "Epoch 42/100\n",
      "232/232 [==============================] - 0s 95us/step - loss: 0.3785 - accuracy: 0.9698\n",
      "Epoch 43/100\n",
      "232/232 [==============================] - 0s 103us/step - loss: 0.3698 - accuracy: 0.9828\n",
      "Epoch 44/100\n",
      "232/232 [==============================] - 0s 95us/step - loss: 0.3643 - accuracy: 0.9741\n",
      "Epoch 45/100\n",
      "232/232 [==============================] - 0s 95us/step - loss: 0.3564 - accuracy: 0.9828\n",
      "Epoch 46/100\n",
      "232/232 [==============================] - 0s 95us/step - loss: 0.3497 - accuracy: 0.9741\n",
      "Epoch 47/100\n",
      "232/232 [==============================] - 0s 116us/step - loss: 0.3412 - accuracy: 0.9871\n",
      "Epoch 48/100\n",
      "232/232 [==============================] - 0s 107us/step - loss: 0.3505 - accuracy: 0.9612\n",
      "Epoch 49/100\n",
      "232/232 [==============================] - 0s 116us/step - loss: 0.3446 - accuracy: 0.9612\n",
      "Epoch 50/100\n",
      "232/232 [==============================] - 0s 103us/step - loss: 0.3313 - accuracy: 0.9569\n",
      "Epoch 51/100\n",
      "232/232 [==============================] - 0s 129us/step - loss: 0.3230 - accuracy: 0.9741\n",
      "Epoch 52/100\n",
      "232/232 [==============================] - 0s 129us/step - loss: 0.3384 - accuracy: 0.9569\n",
      "Epoch 53/100\n",
      "232/232 [==============================] - 0s 116us/step - loss: 0.3152 - accuracy: 0.9655\n",
      "Epoch 54/100\n",
      "232/232 [==============================] - 0s 103us/step - loss: 0.3155 - accuracy: 0.9698\n",
      "Epoch 55/100\n",
      "232/232 [==============================] - 0s 116us/step - loss: 0.3013 - accuracy: 0.9828\n",
      "Epoch 56/100\n",
      "232/232 [==============================] - 0s 116us/step - loss: 0.2831 - accuracy: 0.9914\n",
      "Epoch 57/100\n"
     ]
    },
    {
     "name": "stdout",
     "output_type": "stream",
     "text": [
      "232/232 [==============================] - 0s 116us/step - loss: 0.2801 - accuracy: 0.9871\n",
      "Epoch 58/100\n",
      "232/232 [==============================] - 0s 112us/step - loss: 0.2721 - accuracy: 0.9871\n",
      "Epoch 59/100\n",
      "232/232 [==============================] - 0s 112us/step - loss: 0.2685 - accuracy: 0.9914\n",
      "Epoch 60/100\n",
      "232/232 [==============================] - 0s 107us/step - loss: 0.2620 - accuracy: 0.9914\n",
      "Epoch 61/100\n",
      "232/232 [==============================] - 0s 129us/step - loss: 0.2617 - accuracy: 0.9828\n",
      "Epoch 62/100\n",
      "232/232 [==============================] - 0s 112us/step - loss: 0.2570 - accuracy: 0.9871\n",
      "Epoch 63/100\n",
      "232/232 [==============================] - 0s 112us/step - loss: 0.2555 - accuracy: 0.9828\n",
      "Epoch 64/100\n",
      "232/232 [==============================] - 0s 103us/step - loss: 0.2478 - accuracy: 0.9871\n",
      "Epoch 65/100\n",
      "232/232 [==============================] - 0s 107us/step - loss: 0.2375 - accuracy: 0.9914\n",
      "Epoch 66/100\n",
      "232/232 [==============================] - 0s 103us/step - loss: 0.2336 - accuracy: 0.9914\n",
      "Epoch 67/100\n",
      "232/232 [==============================] - 0s 103us/step - loss: 0.2315 - accuracy: 0.9871\n",
      "Epoch 68/100\n",
      "232/232 [==============================] - 0s 90us/step - loss: 0.2247 - accuracy: 0.9914\n",
      "Epoch 69/100\n",
      "232/232 [==============================] - 0s 99us/step - loss: 0.2256 - accuracy: 0.9871\n",
      "Epoch 70/100\n",
      "232/232 [==============================] - 0s 95us/step - loss: 0.2344 - accuracy: 0.9828\n",
      "Epoch 71/100\n",
      "232/232 [==============================] - 0s 90us/step - loss: 0.2158 - accuracy: 0.9871\n",
      "Epoch 72/100\n",
      "232/232 [==============================] - 0s 92us/step - loss: 0.2159 - accuracy: 0.9871\n",
      "Epoch 73/100\n",
      "232/232 [==============================] - 0s 90us/step - loss: 0.2159 - accuracy: 0.9871\n",
      "Epoch 74/100\n",
      "232/232 [==============================] - 0s 86us/step - loss: 0.2073 - accuracy: 0.9871\n",
      "Epoch 75/100\n",
      "232/232 [==============================] - 0s 90us/step - loss: 0.1984 - accuracy: 0.9914\n",
      "Epoch 76/100\n",
      "232/232 [==============================] - 0s 82us/step - loss: 0.1924 - accuracy: 0.9914\n",
      "Epoch 77/100\n",
      "232/232 [==============================] - 0s 121us/step - loss: 0.1888 - accuracy: 0.9914\n",
      "Epoch 78/100\n",
      "232/232 [==============================] - 0s 86us/step - loss: 0.1879 - accuracy: 0.9914\n",
      "Epoch 79/100\n",
      "232/232 [==============================] - 0s 90us/step - loss: 0.1833 - accuracy: 0.9957\n",
      "Epoch 80/100\n",
      "232/232 [==============================] - 0s 86us/step - loss: 0.1796 - accuracy: 0.9914\n",
      "Epoch 81/100\n",
      "232/232 [==============================] - 0s 90us/step - loss: 0.1948 - accuracy: 0.9828\n",
      "Epoch 82/100\n",
      "232/232 [==============================] - 0s 90us/step - loss: 0.1763 - accuracy: 0.9914\n",
      "Epoch 83/100\n",
      "232/232 [==============================] - 0s 95us/step - loss: 0.1742 - accuracy: 0.9914\n",
      "Epoch 84/100\n",
      "232/232 [==============================] - 0s 112us/step - loss: 0.1657 - accuracy: 0.9957\n",
      "Epoch 85/100\n",
      "232/232 [==============================] - 0s 99us/step - loss: 0.1649 - accuracy: 0.9957\n",
      "Epoch 86/100\n",
      "232/232 [==============================] - 0s 105us/step - loss: 0.1648 - accuracy: 0.9914\n",
      "Epoch 87/100\n",
      "232/232 [==============================] - 0s 112us/step - loss: 0.1591 - accuracy: 0.9957\n",
      "Epoch 88/100\n",
      "232/232 [==============================] - 0s 90us/step - loss: 0.1553 - accuracy: 0.9957\n",
      "Epoch 89/100\n",
      "232/232 [==============================] - 0s 95us/step - loss: 0.1516 - accuracy: 0.9957\n",
      "Epoch 90/100\n",
      "232/232 [==============================] - 0s 90us/step - loss: 0.1468 - accuracy: 0.9957\n",
      "Epoch 91/100\n",
      "232/232 [==============================] - 0s 86us/step - loss: 0.1603 - accuracy: 0.9871\n",
      "Epoch 92/100\n",
      "232/232 [==============================] - 0s 95us/step - loss: 0.1415 - accuracy: 0.9957\n",
      "Epoch 93/100\n",
      "232/232 [==============================] - 0s 107us/step - loss: 0.1763 - accuracy: 0.9741\n",
      "Epoch 94/100\n",
      "232/232 [==============================] - 0s 103us/step - loss: 0.1447 - accuracy: 0.9914\n",
      "Epoch 95/100\n",
      "232/232 [==============================] - 0s 99us/step - loss: 0.1394 - accuracy: 0.9914\n",
      "Epoch 96/100\n",
      "232/232 [==============================] - 0s 95us/step - loss: 0.1360 - accuracy: 0.9957\n",
      "Epoch 97/100\n",
      "232/232 [==============================] - 0s 103us/step - loss: 0.1357 - accuracy: 0.9957\n",
      "Epoch 98/100\n",
      "232/232 [==============================] - 0s 99us/step - loss: 0.1317 - accuracy: 1.0000\n",
      "Epoch 99/100\n",
      "232/232 [==============================] - 0s 103us/step - loss: 0.1318 - accuracy: 0.9957\n",
      "Epoch 100/100\n",
      "232/232 [==============================] - 0s 95us/step - loss: 0.1256 - accuracy: 1.0000\n",
      "116/116 [==============================] - 0s 877us/step\n",
      "Epoch 1/1\n",
      "348/348 [==============================] - 0s 1ms/step - loss: 0.6937 - accuracy: 0.4885\n",
      "Epoch 1/100\n",
      "232/232 [==============================] - 0s 86us/step - loss: 0.6928 - accuracy: 0.5043\n",
      "Epoch 2/100\n",
      "232/232 [==============================] - 0s 86us/step - loss: 0.6927 - accuracy: 0.5043\n",
      "Epoch 3/100\n",
      "232/232 [==============================] - 0s 82us/step - loss: 0.6923 - accuracy: 0.5043\n",
      "Epoch 4/100\n",
      "232/232 [==============================] - 0s 86us/step - loss: 0.6917 - accuracy: 0.5043\n",
      "Epoch 5/100\n",
      "232/232 [==============================] - 0s 90us/step - loss: 0.6902 - accuracy: 0.5043\n",
      "Epoch 6/100\n",
      "232/232 [==============================] - 0s 90us/step - loss: 0.6886 - accuracy: 0.5043\n",
      "Epoch 7/100\n",
      "232/232 [==============================] - 0s 82us/step - loss: 0.6849 - accuracy: 0.5043\n",
      "Epoch 8/100\n",
      "232/232 [==============================] - 0s 86us/step - loss: 0.6806 - accuracy: 0.5043\n",
      "Epoch 9/100\n",
      "232/232 [==============================] - 0s 90us/step - loss: 0.6754 - accuracy: 0.5043\n",
      "Epoch 10/100\n",
      "232/232 [==============================] - 0s 116us/step - loss: 0.6692 - accuracy: 0.5388\n",
      "Epoch 11/100\n",
      "232/232 [==============================] - 0s 103us/step - loss: 0.6623 - accuracy: 0.7069\n",
      "Epoch 12/100\n",
      "232/232 [==============================] - 0s 95us/step - loss: 0.6557 - accuracy: 0.7457\n",
      "Epoch 13/100\n",
      "232/232 [==============================] - 0s 86us/step - loss: 0.6457 - accuracy: 0.8147\n",
      "Epoch 14/100\n",
      "232/232 [==============================] - 0s 90us/step - loss: 0.6423 - accuracy: 0.8233\n",
      "Epoch 15/100\n",
      "232/232 [==============================] - 0s 99us/step - loss: 0.6260 - accuracy: 0.8103\n",
      "Epoch 16/100\n",
      "232/232 [==============================] - 0s 86us/step - loss: 0.6223 - accuracy: 0.8491\n",
      "Epoch 17/100\n",
      "232/232 [==============================] - 0s 95us/step - loss: 0.6094 - accuracy: 0.9095\n",
      "Epoch 18/100\n",
      "232/232 [==============================] - 0s 103us/step - loss: 0.5983 - accuracy: 0.8491\n",
      "Epoch 19/100\n",
      "232/232 [==============================] - 0s 86us/step - loss: 0.5933 - accuracy: 0.8836\n",
      "Epoch 20/100\n",
      "232/232 [==============================] - 0s 95us/step - loss: 0.5799 - accuracy: 0.9052\n",
      "Epoch 21/100\n",
      "232/232 [==============================] - 0s 99us/step - loss: 0.5680 - accuracy: 0.9181\n",
      "Epoch 22/100\n",
      "232/232 [==============================] - 0s 99us/step - loss: 0.5627 - accuracy: 0.8922\n",
      "Epoch 23/100\n",
      "232/232 [==============================] - 0s 99us/step - loss: 0.5548 - accuracy: 0.8836\n",
      "Epoch 24/100\n",
      "232/232 [==============================] - 0s 103us/step - loss: 0.5411 - accuracy: 0.9138\n",
      "Epoch 25/100\n",
      "232/232 [==============================] - 0s 99us/step - loss: 0.5339 - accuracy: 0.9397\n",
      "Epoch 26/100\n",
      "232/232 [==============================] - 0s 99us/step - loss: 0.5208 - accuracy: 0.9440\n",
      "Epoch 27/100\n",
      "232/232 [==============================] - 0s 95us/step - loss: 0.5136 - accuracy: 0.9224\n",
      "Epoch 28/100\n",
      "232/232 [==============================] - 0s 99us/step - loss: 0.5068 - accuracy: 0.9440\n",
      "Epoch 29/100\n",
      "232/232 [==============================] - 0s 99us/step - loss: 0.4958 - accuracy: 0.9267\n",
      "Epoch 30/100\n",
      "232/232 [==============================] - 0s 99us/step - loss: 0.4821 - accuracy: 0.9526\n",
      "Epoch 31/100\n",
      "232/232 [==============================] - 0s 99us/step - loss: 0.4718 - accuracy: 0.9526\n",
      "Epoch 32/100\n",
      "232/232 [==============================] - 0s 95us/step - loss: 0.4609 - accuracy: 0.9698\n",
      "Epoch 33/100\n",
      "232/232 [==============================] - 0s 90us/step - loss: 0.4515 - accuracy: 0.9698\n",
      "Epoch 34/100\n",
      "232/232 [==============================] - 0s 99us/step - loss: 0.4428 - accuracy: 0.9698\n",
      "Epoch 35/100\n"
     ]
    },
    {
     "name": "stdout",
     "output_type": "stream",
     "text": [
      "232/232 [==============================] - 0s 129us/step - loss: 0.4340 - accuracy: 0.9569\n",
      "Epoch 36/100\n",
      "232/232 [==============================] - 0s 112us/step - loss: 0.4333 - accuracy: 0.9440\n",
      "Epoch 37/100\n",
      "232/232 [==============================] - 0s 99us/step - loss: 0.4155 - accuracy: 0.9698\n",
      "Epoch 38/100\n",
      "232/232 [==============================] - 0s 103us/step - loss: 0.4073 - accuracy: 0.9655\n",
      "Epoch 39/100\n",
      "232/232 [==============================] - 0s 95us/step - loss: 0.3967 - accuracy: 0.9698\n",
      "Epoch 40/100\n",
      "232/232 [==============================] - 0s 95us/step - loss: 0.3883 - accuracy: 0.9741\n",
      "Epoch 41/100\n",
      "232/232 [==============================] - 0s 95us/step - loss: 0.3799 - accuracy: 0.9784\n",
      "Epoch 42/100\n",
      "232/232 [==============================] - 0s 99us/step - loss: 0.3752 - accuracy: 0.9698\n",
      "Epoch 43/100\n",
      "232/232 [==============================] - 0s 90us/step - loss: 0.3762 - accuracy: 0.9612\n",
      "Epoch 44/100\n",
      "232/232 [==============================] - 0s 103us/step - loss: 0.3763 - accuracy: 0.9526\n",
      "Epoch 45/100\n",
      "232/232 [==============================] - 0s 86us/step - loss: 0.3545 - accuracy: 0.9784\n",
      "Epoch 46/100\n",
      "232/232 [==============================] - 0s 99us/step - loss: 0.3428 - accuracy: 0.9828\n",
      "Epoch 47/100\n",
      "232/232 [==============================] - 0s 99us/step - loss: 0.3355 - accuracy: 0.9784\n",
      "Epoch 48/100\n",
      "232/232 [==============================] - 0s 99us/step - loss: 0.3325 - accuracy: 0.9828\n",
      "Epoch 49/100\n",
      "232/232 [==============================] - 0s 99us/step - loss: 0.3401 - accuracy: 0.9698\n",
      "Epoch 50/100\n",
      "232/232 [==============================] - 0s 95us/step - loss: 0.3217 - accuracy: 0.9784\n",
      "Epoch 51/100\n",
      "232/232 [==============================] - 0s 82us/step - loss: 0.3113 - accuracy: 0.9828\n",
      "Epoch 52/100\n",
      "232/232 [==============================] - 0s 99us/step - loss: 0.3053 - accuracy: 0.9828\n",
      "Epoch 53/100\n",
      "232/232 [==============================] - 0s 95us/step - loss: 0.3038 - accuracy: 0.9741\n",
      "Epoch 54/100\n",
      "232/232 [==============================] - 0s 95us/step - loss: 0.3018 - accuracy: 0.9741\n",
      "Epoch 55/100\n",
      "232/232 [==============================] - 0s 90us/step - loss: 0.2867 - accuracy: 0.9828\n",
      "Epoch 56/100\n",
      "232/232 [==============================] - 0s 95us/step - loss: 0.2860 - accuracy: 0.9784\n",
      "Epoch 57/100\n",
      "232/232 [==============================] - 0s 95us/step - loss: 0.2777 - accuracy: 0.9784\n",
      "Epoch 58/100\n",
      "232/232 [==============================] - 0s 95us/step - loss: 0.2782 - accuracy: 0.9741\n",
      "Epoch 59/100\n",
      "232/232 [==============================] - 0s 95us/step - loss: 0.2631 - accuracy: 0.9871\n",
      "Epoch 60/100\n",
      "232/232 [==============================] - 0s 86us/step - loss: 0.2720 - accuracy: 0.9741\n",
      "Epoch 61/100\n",
      "232/232 [==============================] - 0s 99us/step - loss: 0.2523 - accuracy: 0.9871\n",
      "Epoch 62/100\n",
      "232/232 [==============================] - 0s 95us/step - loss: 0.2482 - accuracy: 0.9871\n",
      "Epoch 63/100\n",
      "232/232 [==============================] - 0s 99us/step - loss: 0.2451 - accuracy: 0.9871\n",
      "Epoch 64/100\n",
      "232/232 [==============================] - 0s 86us/step - loss: 0.2440 - accuracy: 0.9828\n",
      "Epoch 65/100\n",
      "232/232 [==============================] - 0s 95us/step - loss: 0.2368 - accuracy: 0.9871\n",
      "Epoch 66/100\n",
      "232/232 [==============================] - 0s 90us/step - loss: 0.2338 - accuracy: 0.9828\n",
      "Epoch 67/100\n",
      "232/232 [==============================] - 0s 90us/step - loss: 0.2261 - accuracy: 0.9871\n",
      "Epoch 68/100\n",
      "232/232 [==============================] - 0s 86us/step - loss: 0.2235 - accuracy: 0.9871\n",
      "Epoch 69/100\n",
      "232/232 [==============================] - 0s 86us/step - loss: 0.2349 - accuracy: 0.9914\n",
      "Epoch 70/100\n",
      "232/232 [==============================] - 0s 86us/step - loss: 0.2259 - accuracy: 0.9784\n",
      "Epoch 71/100\n",
      "232/232 [==============================] - 0s 90us/step - loss: 0.2201 - accuracy: 0.9828\n",
      "Epoch 72/100\n",
      "232/232 [==============================] - 0s 90us/step - loss: 0.2047 - accuracy: 0.9914\n",
      "Epoch 73/100\n",
      "232/232 [==============================] - 0s 90us/step - loss: 0.2076 - accuracy: 0.9871\n",
      "Epoch 74/100\n",
      "232/232 [==============================] - 0s 90us/step - loss: 0.2009 - accuracy: 0.9914\n",
      "Epoch 75/100\n",
      "232/232 [==============================] - 0s 99us/step - loss: 0.2054 - accuracy: 0.9828\n",
      "Epoch 76/100\n",
      "232/232 [==============================] - 0s 103us/step - loss: 0.1925 - accuracy: 0.9914\n",
      "Epoch 77/100\n",
      "232/232 [==============================] - 0s 103us/step - loss: 0.1917 - accuracy: 0.9957\n",
      "Epoch 78/100\n",
      "232/232 [==============================] - 0s 90us/step - loss: 0.1950 - accuracy: 0.9914\n",
      "Epoch 79/100\n",
      "232/232 [==============================] - 0s 103us/step - loss: 0.1963 - accuracy: 0.9784\n",
      "Epoch 80/100\n",
      "232/232 [==============================] - 0s 99us/step - loss: 0.1974 - accuracy: 0.9698\n",
      "Epoch 81/100\n",
      "232/232 [==============================] - 0s 90us/step - loss: 0.1871 - accuracy: 0.9828\n",
      "Epoch 82/100\n",
      "232/232 [==============================] - 0s 86us/step - loss: 0.1763 - accuracy: 0.9914\n",
      "Epoch 83/100\n",
      "232/232 [==============================] - 0s 86us/step - loss: 0.1738 - accuracy: 0.9871\n",
      "Epoch 84/100\n",
      "232/232 [==============================] - 0s 95us/step - loss: 0.1704 - accuracy: 0.9871\n",
      "Epoch 85/100\n",
      "232/232 [==============================] - 0s 99us/step - loss: 0.1657 - accuracy: 0.9957\n",
      "Epoch 86/100\n",
      "232/232 [==============================] - 0s 99us/step - loss: 0.1650 - accuracy: 0.9828\n",
      "Epoch 87/100\n",
      "232/232 [==============================] - 0s 103us/step - loss: 0.1698 - accuracy: 0.9871\n",
      "Epoch 88/100\n",
      "232/232 [==============================] - 0s 95us/step - loss: 0.1546 - accuracy: 0.9914\n",
      "Epoch 89/100\n",
      "232/232 [==============================] - 0s 103us/step - loss: 0.1594 - accuracy: 0.9914\n",
      "Epoch 90/100\n",
      "232/232 [==============================] - 0s 99us/step - loss: 0.1486 - accuracy: 0.9914\n",
      "Epoch 91/100\n",
      "232/232 [==============================] - 0s 99us/step - loss: 0.1472 - accuracy: 0.9914\n",
      "Epoch 92/100\n",
      "232/232 [==============================] - 0s 95us/step - loss: 0.1437 - accuracy: 0.9957\n",
      "Epoch 93/100\n",
      "232/232 [==============================] - 0s 99us/step - loss: 0.1417 - accuracy: 0.9957\n",
      "Epoch 94/100\n",
      "232/232 [==============================] - 0s 103us/step - loss: 0.1396 - accuracy: 0.9914\n",
      "Epoch 95/100\n",
      "232/232 [==============================] - 0s 99us/step - loss: 0.1393 - accuracy: 0.9957\n",
      "Epoch 96/100\n",
      "232/232 [==============================] - 0s 103us/step - loss: 0.1373 - accuracy: 0.9957\n",
      "Epoch 97/100\n",
      "232/232 [==============================] - 0s 95us/step - loss: 0.1429 - accuracy: 0.9957\n",
      "Epoch 98/100\n",
      "232/232 [==============================] - 0s 99us/step - loss: 0.1313 - accuracy: 0.9914\n",
      "Epoch 99/100\n",
      "232/232 [==============================] - 0s 95us/step - loss: 0.1472 - accuracy: 0.9784\n",
      "Epoch 100/100\n",
      "232/232 [==============================] - 0s 99us/step - loss: 0.1398 - accuracy: 0.9914\n",
      "116/116 [==============================] - 0s 929us/step\n",
      "Accuracy mean: 0.9683908025423685\n",
      "Accuracy variance: 0.017713838009733997\n"
     ]
    }
   ],
   "source": [
    "accuracies = cross_val_score(estimator = model, X = x_train, y = y_train, cv = 3)\n",
    "mean = accuracies.mean()\n",
    "\n",
    "variance = accuracies.std()\n",
    "\n",
    "print(\"Accuracy mean: \"+ str(mean))\n",
    "print(\"Accuracy variance: \"+ str(variance))"
   ]
  },
  {
   "cell_type": "code",
   "execution_count": 122,
   "metadata": {},
   "outputs": [
    {
     "name": "stdout",
     "output_type": "stream",
     "text": [
      "Accurarcies 0.982758641242981\n",
      "Accurarcies 0.9482758641242981\n",
      "Accurarcies 0.9482758641242981\n"
     ]
    }
   ],
   "source": [
    "for i in accuracies:\n",
    "    print(\"Accurarcies\",i)"
   ]
  }
 ],
 "metadata": {
  "kernelspec": {
   "display_name": "Python 3",
   "language": "python",
   "name": "python3"
  },
  "language_info": {
   "codemirror_mode": {
    "name": "ipython",
    "version": 3
   },
   "file_extension": ".py",
   "mimetype": "text/x-python",
   "name": "python",
   "nbconvert_exporter": "python",
   "pygments_lexer": "ipython3",
   "version": "3.7.3"
  }
 },
 "nbformat": 4,
 "nbformat_minor": 2
}
